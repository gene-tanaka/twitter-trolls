{
 "cells": [
  {
   "cell_type": "code",
   "execution_count": 1,
   "metadata": {},
   "outputs": [],
   "source": [
    "import random\n",
    "import collections\n",
    "import math\n",
    "import sys\n",
    "import copy\n",
    "import pandas as pd\n",
    "import os\n",
    "import datetime\n",
    "import numpy as np"
   ]
  },
  {
   "cell_type": "code",
   "execution_count": 2,
   "metadata": {},
   "outputs": [],
   "source": [
    "fake = pd.read_csv(os.getcwd()+'/fake.csv')\n",
    "fake = fake[['user_key','text','created_str']]"
   ]
  },
  {
   "cell_type": "code",
   "execution_count": 3,
   "metadata": {},
   "outputs": [],
   "source": [
    "real = pd.read_csv(os.getcwd()+'/real.csv')\n",
    "real = real[['created','name','text']]\n",
    "real['truth'] = 1\n",
    "fake['truth'] = -1\n",
    "\n",
    "fake = fake.rename(columns={\"created_str\": \"created\", \"user_key\": \"name\", })\n",
    "real['created'] = pd.to_datetime(real['created'])\n",
    "fake['created'] = pd.to_datetime(fake['created'])\n",
    "\n",
    "real['month'] = real['created'].dt.month\n",
    "fake['month'] = fake['created'].dt.month\n",
    "real['day'] = real['created'].dt.day\n",
    "fake['day'] = fake['created'].dt.day\n",
    "real['hr'] = real['created'].dt.hour\n",
    "fake['hr'] = fake['created'].dt.hour"
   ]
  },
  {
   "cell_type": "code",
   "execution_count": 4,
   "metadata": {
    "scrolled": true
   },
   "outputs": [
    {
     "data": {
      "text/html": [
       "<div>\n",
       "<style scoped>\n",
       "    .dataframe tbody tr th:only-of-type {\n",
       "        vertical-align: middle;\n",
       "    }\n",
       "\n",
       "    .dataframe tbody tr th {\n",
       "        vertical-align: top;\n",
       "    }\n",
       "\n",
       "    .dataframe thead th {\n",
       "        text-align: right;\n",
       "    }\n",
       "</style>\n",
       "<table border=\"1\" class=\"dataframe\">\n",
       "  <thead>\n",
       "    <tr style=\"text-align: right;\">\n",
       "      <th></th>\n",
       "      <th>created</th>\n",
       "      <th>name</th>\n",
       "      <th>text</th>\n",
       "      <th>truth</th>\n",
       "      <th>month</th>\n",
       "      <th>day</th>\n",
       "      <th>hr</th>\n",
       "    </tr>\n",
       "  </thead>\n",
       "  <tbody>\n",
       "    <tr>\n",
       "      <th>0</th>\n",
       "      <td>2013-12-05 01:48:00</td>\n",
       "      <td>sheezy0</td>\n",
       "      <td>Robbie E Responds To Critics After Win Against...</td>\n",
       "      <td>1</td>\n",
       "      <td>12</td>\n",
       "      <td>5</td>\n",
       "      <td>1</td>\n",
       "    </tr>\n",
       "    <tr>\n",
       "      <th>1</th>\n",
       "      <td>2012-10-01 13:51:00</td>\n",
       "      <td>DavdBurnett</td>\n",
       "      <td>‰ЫПIt felt like they were my friends and I was...</td>\n",
       "      <td>1</td>\n",
       "      <td>10</td>\n",
       "      <td>1</td>\n",
       "      <td>13</td>\n",
       "    </tr>\n",
       "    <tr>\n",
       "      <th>2</th>\n",
       "      <td>2014-11-28 11:30:00</td>\n",
       "      <td>lwtprettylaugh</td>\n",
       "      <td>i absolutely adore when louis starts the songs...</td>\n",
       "      <td>1</td>\n",
       "      <td>11</td>\n",
       "      <td>28</td>\n",
       "      <td>11</td>\n",
       "    </tr>\n",
       "    <tr>\n",
       "      <th>3</th>\n",
       "      <td>2009-06-11 22:39:00</td>\n",
       "      <td>douggarland</td>\n",
       "      <td>Hi @JordanSpieth - Looking at the url - do you...</td>\n",
       "      <td>1</td>\n",
       "      <td>6</td>\n",
       "      <td>11</td>\n",
       "      <td>22</td>\n",
       "    </tr>\n",
       "    <tr>\n",
       "      <th>4</th>\n",
       "      <td>2014-04-16 13:23:00</td>\n",
       "      <td>WilfordGemma</td>\n",
       "      <td>Watching Neighbours on Sky+ catching up with t...</td>\n",
       "      <td>1</td>\n",
       "      <td>4</td>\n",
       "      <td>16</td>\n",
       "      <td>13</td>\n",
       "    </tr>\n",
       "  </tbody>\n",
       "</table>\n",
       "</div>"
      ],
      "text/plain": [
       "              created            name  \\\n",
       "0 2013-12-05 01:48:00         sheezy0   \n",
       "1 2012-10-01 13:51:00     DavdBurnett   \n",
       "2 2014-11-28 11:30:00  lwtprettylaugh   \n",
       "3 2009-06-11 22:39:00     douggarland   \n",
       "4 2014-04-16 13:23:00    WilfordGemma   \n",
       "\n",
       "                                                text  truth  month  day  hr  \n",
       "0  Robbie E Responds To Critics After Win Against...      1     12    5   1  \n",
       "1  ‰ЫПIt felt like they were my friends and I was...      1     10    1  13  \n",
       "2  i absolutely adore when louis starts the songs...      1     11   28  11  \n",
       "3  Hi @JordanSpieth - Looking at the url - do you...      1      6   11  22  \n",
       "4  Watching Neighbours on Sky+ catching up with t...      1      4   16  13  "
      ]
     },
     "execution_count": 4,
     "metadata": {},
     "output_type": "execute_result"
    }
   ],
   "source": [
    "real.head()"
   ]
  },
  {
   "cell_type": "code",
   "execution_count": 5,
   "metadata": {},
   "outputs": [
    {
     "data": {
      "text/html": [
       "<div>\n",
       "<style scoped>\n",
       "    .dataframe tbody tr th:only-of-type {\n",
       "        vertical-align: middle;\n",
       "    }\n",
       "\n",
       "    .dataframe tbody tr th {\n",
       "        vertical-align: top;\n",
       "    }\n",
       "\n",
       "    .dataframe thead th {\n",
       "        text-align: right;\n",
       "    }\n",
       "</style>\n",
       "<table border=\"1\" class=\"dataframe\">\n",
       "  <thead>\n",
       "    <tr style=\"text-align: right;\">\n",
       "      <th></th>\n",
       "      <th>name</th>\n",
       "      <th>text</th>\n",
       "      <th>created</th>\n",
       "      <th>truth</th>\n",
       "      <th>month</th>\n",
       "      <th>day</th>\n",
       "      <th>hr</th>\n",
       "    </tr>\n",
       "  </thead>\n",
       "  <tbody>\n",
       "    <tr>\n",
       "      <th>0</th>\n",
       "      <td>ryanmaxwell_1</td>\n",
       "      <td>#IslamKills Are you trying to say that there w...</td>\n",
       "      <td>2016-03-22 18:31:42</td>\n",
       "      <td>-1</td>\n",
       "      <td>3.0</td>\n",
       "      <td>22.0</td>\n",
       "      <td>18.0</td>\n",
       "    </tr>\n",
       "    <tr>\n",
       "      <th>1</th>\n",
       "      <td>detroitdailynew</td>\n",
       "      <td>Clinton: Trump should’ve apologized more, atta...</td>\n",
       "      <td>2016-10-10 20:57:00</td>\n",
       "      <td>-1</td>\n",
       "      <td>10.0</td>\n",
       "      <td>10.0</td>\n",
       "      <td>20.0</td>\n",
       "    </tr>\n",
       "    <tr>\n",
       "      <th>2</th>\n",
       "      <td>cookncooks</td>\n",
       "      <td>RT @ltapoll: Who was/is the best president of ...</td>\n",
       "      <td>2017-02-22 12:43:43</td>\n",
       "      <td>-1</td>\n",
       "      <td>2.0</td>\n",
       "      <td>22.0</td>\n",
       "      <td>12.0</td>\n",
       "    </tr>\n",
       "    <tr>\n",
       "      <th>3</th>\n",
       "      <td>queenofthewo</td>\n",
       "      <td>RT @jww372: I don't have to guess your religio...</td>\n",
       "      <td>2016-12-26 15:06:41</td>\n",
       "      <td>-1</td>\n",
       "      <td>12.0</td>\n",
       "      <td>26.0</td>\n",
       "      <td>15.0</td>\n",
       "    </tr>\n",
       "    <tr>\n",
       "      <th>4</th>\n",
       "      <td>mrclydepratt</td>\n",
       "      <td>RT @Shareblue: Pence and his lawyers decided w...</td>\n",
       "      <td>2017-08-06 02:36:24</td>\n",
       "      <td>-1</td>\n",
       "      <td>8.0</td>\n",
       "      <td>6.0</td>\n",
       "      <td>2.0</td>\n",
       "    </tr>\n",
       "  </tbody>\n",
       "</table>\n",
       "</div>"
      ],
      "text/plain": [
       "              name                                               text  \\\n",
       "0    ryanmaxwell_1  #IslamKills Are you trying to say that there w...   \n",
       "1  detroitdailynew  Clinton: Trump should’ve apologized more, atta...   \n",
       "2       cookncooks  RT @ltapoll: Who was/is the best president of ...   \n",
       "3     queenofthewo  RT @jww372: I don't have to guess your religio...   \n",
       "4     mrclydepratt  RT @Shareblue: Pence and his lawyers decided w...   \n",
       "\n",
       "              created  truth  month   day    hr  \n",
       "0 2016-03-22 18:31:42     -1    3.0  22.0  18.0  \n",
       "1 2016-10-10 20:57:00     -1   10.0  10.0  20.0  \n",
       "2 2017-02-22 12:43:43     -1    2.0  22.0  12.0  \n",
       "3 2016-12-26 15:06:41     -1   12.0  26.0  15.0  \n",
       "4 2017-08-06 02:36:24     -1    8.0   6.0   2.0  "
      ]
     },
     "execution_count": 5,
     "metadata": {},
     "output_type": "execute_result"
    }
   ],
   "source": [
    "fake.head()"
   ]
  },
  {
   "cell_type": "code",
   "execution_count": 6,
   "metadata": {},
   "outputs": [
    {
     "data": {
      "text/plain": [
       "(20050, 7)"
      ]
     },
     "execution_count": 6,
     "metadata": {},
     "output_type": "execute_result"
    }
   ],
   "source": [
    "real.shape"
   ]
  },
  {
   "cell_type": "code",
   "execution_count": 7,
   "metadata": {
    "scrolled": true
   },
   "outputs": [
    {
     "data": {
      "text/plain": [
       "(203482, 7)"
      ]
     },
     "execution_count": 7,
     "metadata": {},
     "output_type": "execute_result"
    }
   ],
   "source": [
    "fake.shape"
   ]
  },
  {
   "cell_type": "code",
   "execution_count": 8,
   "metadata": {},
   "outputs": [],
   "source": [
    "train_real = real.head(10000)\n",
    "train_fake = fake.head(10000)\n",
    "train = train_real.append(train_fake, sort=True)\n",
    "train = train.sample(frac=1).reset_index(drop=True)\n",
    "\n",
    "test_real = real.tail(1000)\n",
    "test_fake = fake.tail(1000)\n",
    "test = test_real.append(test_fake, sort=True)\n",
    "test = test.sample(frac=1).reset_index(drop=True)\n",
    "\n",
    "trainExamples = []\n",
    "\n",
    "for index, row in train.iterrows():\n",
    "    trainExamples.append((row['text'], row['truth']))\n",
    "trainExamples = tuple(trainExamples)\n",
    "\n",
    "testExamples = []\n",
    "\n",
    "for index, row in test.iterrows():\n",
    "    testExamples.append((row['text'], row['truth']))\n",
    "testExamples = tuple(testExamples)"
   ]
  },
  {
   "cell_type": "code",
   "execution_count": 9,
   "metadata": {},
   "outputs": [],
   "source": [
    "# trainExamples"
   ]
  },
  {
   "cell_type": "code",
   "execution_count": 10,
   "metadata": {},
   "outputs": [],
   "source": [
    "def extractWordFeatures(x):\n",
    "    features = {}\n",
    "    for word in x.split():\n",
    "        if word not in features:\n",
    "            features[word] = 0\n",
    "        features[word] += 1\n",
    "    return features"
   ]
  },
  {
   "cell_type": "code",
   "execution_count": 11,
   "metadata": {},
   "outputs": [],
   "source": [
    "def learnPredictor(trainExamples, testExamples, featureExtractor, numIters, eta):\n",
    "    def hingeLoss(w, i):\n",
    "        x, y = trainExamples[i]\n",
    "        features = featureExtractor(x)\n",
    "        return max(1 - dotProduct(weights,features)*y, 0)\n",
    "        \n",
    "    def dHingeLoss(w, i):\n",
    "        x, y = trainExamples[i]\n",
    "        features = featureExtractor(x)\n",
    "        if dotProduct(weights,features)*y < 1:\n",
    "            features.update((a, b*-y) for a, b in features.items())\n",
    "            return features\n",
    "        else:\n",
    "            features.update((a, 0) for a, b in features.items())\n",
    "            return features\n",
    "        \n",
    "    weights = {}\n",
    "\n",
    "    n = len(trainExamples)\n",
    "    for t in range(numIters):\n",
    "        for i in range(n):\n",
    "            gradient = dHingeLoss(weights, i)\n",
    "            increment(weights, -eta, gradient)\n",
    "    predictor = lambda x : 1 if dotProduct(featureExtractor(x), weights) > 0 else -1\n",
    "#     print('Train Error: {}'.format(evaluatePredictor(trainExamples, predictor)))\n",
    "#     print('Test Error: {}'.format(evaluatePredictor(testExamples, predictor)))\n",
    "    trainPredictions = predictions(trainExamples, predictor)\n",
    "    testPredictions = predictions(testExamples, predictor)\n",
    "    return weights, trainPredictions, testPredictions"
   ]
  },
  {
   "cell_type": "code",
   "execution_count": 12,
   "metadata": {},
   "outputs": [],
   "source": [
    "def combinedFeatures(x):\n",
    "    features = {}\n",
    "    for word in x.split():\n",
    "        if word not in features:\n",
    "            features[word] = 0\n",
    "        features[word] += 1\n",
    "    \n",
    "    n = 2\n",
    "    x = x.replace(\" \",\"\")\n",
    "    for i in range(len(x) - n + 1):\n",
    "        if x[i:i+n] not in features:\n",
    "            features[x[i:i+n]] = 0\n",
    "        features[x[i:i+n]] += 1\n",
    "    return features"
   ]
  },
  {
   "cell_type": "code",
   "execution_count": 13,
   "metadata": {},
   "outputs": [],
   "source": [
    "def extractCharacterFeatures(n):\n",
    "    def extract(x):\n",
    "        x = x.replace(\" \",\"\")\n",
    "        nGrams = {}\n",
    "        for i in range(len(x) - n + 1):\n",
    "            if x[i:i+n] not in nGrams:\n",
    "                nGrams[x[i:i+n]] = 0\n",
    "            nGrams[x[i:i+n]] += 1\n",
    "        return nGrams\n",
    "    return extract"
   ]
  },
  {
   "cell_type": "code",
   "execution_count": 14,
   "metadata": {},
   "outputs": [],
   "source": [
    "def dotProduct(d1, d2):\n",
    "    if len(d1) < len(d2):\n",
    "        return dotProduct(d2, d1)\n",
    "    else:\n",
    "        return sum(d1.get(f, 0) * v for f, v in list(d2.items()))\n",
    "    \n",
    "def increment(d1, scale, d2):\n",
    "    for f, v in list(d2.items()):\n",
    "        d1[f] = d1.get(f, 0) + v * scale\n",
    "        \n",
    "def evaluatePredictor(examples, predictor):\n",
    "    error = 0\n",
    "    for x, y in examples:\n",
    "        if predictor(x) != y:\n",
    "            error += 1\n",
    "    return 1.0 * error / len(examples)\n",
    "\n",
    "def predictions(examples, predictor):\n",
    "    predictions = []\n",
    "    for x, y in examples:\n",
    "        predictions.append(predictor(x))\n",
    "    return predictions"
   ]
  },
  {
   "cell_type": "code",
   "execution_count": 15,
   "metadata": {
    "scrolled": true
   },
   "outputs": [],
   "source": [
    "featureExtractor = combinedFeatures\n",
    "weightsCombined, trainPredictionsCombined, testPredictionsCombined = learnPredictor(trainExamples, testExamples, featureExtractor, numIters=20, eta=0.01)"
   ]
  },
  {
   "cell_type": "code",
   "execution_count": 16,
   "metadata": {
    "scrolled": true
   },
   "outputs": [],
   "source": [
    "featureExtractor = extractWordFeatures\n",
    "weightsWords, trainPredictionsWords, testPredictionsWords = learnPredictor(trainExamples, testExamples, featureExtractor, numIters=20, eta=0.01)"
   ]
  },
  {
   "cell_type": "code",
   "execution_count": 17,
   "metadata": {},
   "outputs": [],
   "source": [
    "featureExtractor = extractCharacterFeatures(3)\n",
    "weightsCharacters3, trainPredictionsCharacters3, testPredictionsCharacters3 = learnPredictor(trainExamples, testExamples, featureExtractor, numIters=20, eta=0.01)"
   ]
  },
  {
   "cell_type": "code",
   "execution_count": 18,
   "metadata": {},
   "outputs": [],
   "source": [
    "featureExtractor = extractCharacterFeatures(4)\n",
    "weightsCharacters4, trainPredictionsCharacters4, testPredictionsCharacters4 = learnPredictor(trainExamples, testExamples, featureExtractor, numIters=20, eta=0.01)"
   ]
  },
  {
   "cell_type": "code",
   "execution_count": 19,
   "metadata": {},
   "outputs": [],
   "source": [
    "featureExtractor = extractCharacterFeatures(2)\n",
    "weightsCharacters2, trainPredictionsCharacters2, testPredictionsCharacters2 = learnPredictor(trainExamples, testExamples, featureExtractor, numIters=20, eta=0.01)"
   ]
  },
  {
   "cell_type": "code",
   "execution_count": 20,
   "metadata": {},
   "outputs": [],
   "source": [
    "def addFeatures(df, dataType):\n",
    "    if dataType == 'train':\n",
    "        df['characters2'] = trainPredictionsCharacters2\n",
    "        df['characters4'] = trainPredictionsCharacters4\n",
    "        df['characters3'] = trainPredictionsCharacters3\n",
    "        df['combined'] = trainPredictionsCombined\n",
    "        df['words'] = trainPredictionsWords\n",
    "    else:\n",
    "        df['characters2'] = testPredictionsCharacters2\n",
    "        df['characters4'] = testPredictionsCharacters4\n",
    "        df['characters3'] = testPredictionsCharacters3\n",
    "        df['combined'] = testPredictionsCombined\n",
    "        df['words'] = testPredictionsWords\n",
    "    df = addNumbersInName(df)\n",
    "    df = addSpecialCharactersInText(df)\n",
    "    df = addCapsInText(df)\n",
    "    return df"
   ]
  },
  {
   "cell_type": "code",
   "execution_count": 21,
   "metadata": {},
   "outputs": [],
   "source": [
    "def addNumbersInName(df):\n",
    "    numbersInName = []\n",
    "    for index, row in df.iterrows():\n",
    "        count = 0\n",
    "        text = row['name']\n",
    "        for i in range(10):\n",
    "            count += text.count(str(i))\n",
    "        numbersInName.append(count)\n",
    "    df['numbersInName'] = numbersInName\n",
    "    return df"
   ]
  },
  {
   "cell_type": "code",
   "execution_count": 22,
   "metadata": {},
   "outputs": [],
   "source": [
    "def addSpecialCharactersInText(df):\n",
    "    specialCharsText = []\n",
    "    for index, row in df.iterrows():\n",
    "        count = 0\n",
    "        text = row['text']\n",
    "        for ch in text:\n",
    "            if not ((ch >= 'A' and ch <= 'Z') or (ch >= 'a' and ch <= 'z')):\n",
    "                count += 1\n",
    "        specialCharsText.append(1.0*count/len(text))\n",
    "    df['specialCharsText'] = specialCharsText\n",
    "    return df"
   ]
  },
  {
   "cell_type": "code",
   "execution_count": 23,
   "metadata": {},
   "outputs": [],
   "source": [
    "def addCapsInText(df):\n",
    "    capsInText = []\n",
    "    for index, row in df.iterrows():\n",
    "        count = 0\n",
    "        text = row['text']\n",
    "        for ch in text:\n",
    "            if ch >= 'A' and ch <= 'Z':\n",
    "                count += 1\n",
    "        capsInText.append(1.0*count/len(text))\n",
    "    df['capsInText'] = capsInText\n",
    "    return df"
   ]
  },
  {
   "cell_type": "code",
   "execution_count": 24,
   "metadata": {},
   "outputs": [],
   "source": [
    "newTrain = addFeatures(train, 'train')\n",
    "newTest = addFeatures(test, 'test')"
   ]
  },
  {
   "cell_type": "code",
   "execution_count": 25,
   "metadata": {},
   "outputs": [],
   "source": [
    "newTrain.to_csv('newTrain.csv')\n",
    "newTest.to_csv('newTest.csv')"
   ]
  },
  {
   "cell_type": "code",
   "execution_count": 26,
   "metadata": {},
   "outputs": [
    {
     "data": {
      "text/html": [
       "<div>\n",
       "<style scoped>\n",
       "    .dataframe tbody tr th:only-of-type {\n",
       "        vertical-align: middle;\n",
       "    }\n",
       "\n",
       "    .dataframe tbody tr th {\n",
       "        vertical-align: top;\n",
       "    }\n",
       "\n",
       "    .dataframe thead th {\n",
       "        text-align: right;\n",
       "    }\n",
       "</style>\n",
       "<table border=\"1\" class=\"dataframe\">\n",
       "  <thead>\n",
       "    <tr style=\"text-align: right;\">\n",
       "      <th></th>\n",
       "      <th>created</th>\n",
       "      <th>day</th>\n",
       "      <th>hr</th>\n",
       "      <th>month</th>\n",
       "      <th>name</th>\n",
       "      <th>text</th>\n",
       "      <th>truth</th>\n",
       "      <th>characters2</th>\n",
       "      <th>characters4</th>\n",
       "      <th>characters3</th>\n",
       "      <th>combined</th>\n",
       "      <th>words</th>\n",
       "      <th>numbersInName</th>\n",
       "      <th>specialCharsText</th>\n",
       "      <th>capsInText</th>\n",
       "    </tr>\n",
       "  </thead>\n",
       "  <tbody>\n",
       "    <tr>\n",
       "      <th>0</th>\n",
       "      <td>2015-10-11 20:04:43</td>\n",
       "      <td>11.0</td>\n",
       "      <td>20.0</td>\n",
       "      <td>10.0</td>\n",
       "      <td>_nickluna_</td>\n",
       "      <td>RT @DesignerDeb3: @realDonaldTrump Young Voter...</td>\n",
       "      <td>-1</td>\n",
       "      <td>-1</td>\n",
       "      <td>-1</td>\n",
       "      <td>-1</td>\n",
       "      <td>-1</td>\n",
       "      <td>-1</td>\n",
       "      <td>0</td>\n",
       "      <td>0.192857</td>\n",
       "      <td>0.128571</td>\n",
       "    </tr>\n",
       "    <tr>\n",
       "      <th>1</th>\n",
       "      <td>2016-11-16 13:17:59</td>\n",
       "      <td>16.0</td>\n",
       "      <td>13.0</td>\n",
       "      <td>11.0</td>\n",
       "      <td>thefoundingson</td>\n",
       "      <td>Four people killed by suicide bomber in Kabul ...</td>\n",
       "      <td>-1</td>\n",
       "      <td>-1</td>\n",
       "      <td>-1</td>\n",
       "      <td>-1</td>\n",
       "      <td>-1</td>\n",
       "      <td>-1</td>\n",
       "      <td>0</td>\n",
       "      <td>0.217391</td>\n",
       "      <td>0.115942</td>\n",
       "    </tr>\n",
       "    <tr>\n",
       "      <th>2</th>\n",
       "      <td>2014-04-25 09:01:00</td>\n",
       "      <td>25.0</td>\n",
       "      <td>9.0</td>\n",
       "      <td>4.0</td>\n",
       "      <td>sprinklofstyles</td>\n",
       "      <td>@Harry_Styles I love you very much and you mea...</td>\n",
       "      <td>1</td>\n",
       "      <td>1</td>\n",
       "      <td>1</td>\n",
       "      <td>1</td>\n",
       "      <td>1</td>\n",
       "      <td>1</td>\n",
       "      <td>0</td>\n",
       "      <td>0.393103</td>\n",
       "      <td>0.068966</td>\n",
       "    </tr>\n",
       "    <tr>\n",
       "      <th>3</th>\n",
       "      <td>2016-09-13 13:47:21</td>\n",
       "      <td>13.0</td>\n",
       "      <td>13.0</td>\n",
       "      <td>9.0</td>\n",
       "      <td>paulinett</td>\n",
       "      <td>RT @VeryWhiteGuy: We sure can pick em here in ...</td>\n",
       "      <td>-1</td>\n",
       "      <td>-1</td>\n",
       "      <td>-1</td>\n",
       "      <td>-1</td>\n",
       "      <td>-1</td>\n",
       "      <td>-1</td>\n",
       "      <td>0</td>\n",
       "      <td>0.235714</td>\n",
       "      <td>0.121429</td>\n",
       "    </tr>\n",
       "    <tr>\n",
       "      <th>4</th>\n",
       "      <td>2016-12-05 00:43:21</td>\n",
       "      <td>5.0</td>\n",
       "      <td>0.0</td>\n",
       "      <td>12.0</td>\n",
       "      <td>garrettsimpson_</td>\n",
       "      <td>RT @Hunter7Taylor: FAIRImmigration: New York W...</td>\n",
       "      <td>-1</td>\n",
       "      <td>-1</td>\n",
       "      <td>-1</td>\n",
       "      <td>-1</td>\n",
       "      <td>-1</td>\n",
       "      <td>-1</td>\n",
       "      <td>0</td>\n",
       "      <td>0.207143</td>\n",
       "      <td>0.171429</td>\n",
       "    </tr>\n",
       "  </tbody>\n",
       "</table>\n",
       "</div>"
      ],
      "text/plain": [
       "              created   day    hr  month             name  \\\n",
       "0 2015-10-11 20:04:43  11.0  20.0   10.0       _nickluna_   \n",
       "1 2016-11-16 13:17:59  16.0  13.0   11.0   thefoundingson   \n",
       "2 2014-04-25 09:01:00  25.0   9.0    4.0  sprinklofstyles   \n",
       "3 2016-09-13 13:47:21  13.0  13.0    9.0        paulinett   \n",
       "4 2016-12-05 00:43:21   5.0   0.0   12.0  garrettsimpson_   \n",
       "\n",
       "                                                text  truth  characters2  \\\n",
       "0  RT @DesignerDeb3: @realDonaldTrump Young Voter...     -1           -1   \n",
       "1  Four people killed by suicide bomber in Kabul ...     -1           -1   \n",
       "2  @Harry_Styles I love you very much and you mea...      1            1   \n",
       "3  RT @VeryWhiteGuy: We sure can pick em here in ...     -1           -1   \n",
       "4  RT @Hunter7Taylor: FAIRImmigration: New York W...     -1           -1   \n",
       "\n",
       "   characters4  characters3  combined  words  numbersInName  specialCharsText  \\\n",
       "0           -1           -1        -1     -1              0          0.192857   \n",
       "1           -1           -1        -1     -1              0          0.217391   \n",
       "2            1            1         1      1              0          0.393103   \n",
       "3           -1           -1        -1     -1              0          0.235714   \n",
       "4           -1           -1        -1     -1              0          0.207143   \n",
       "\n",
       "   capsInText  \n",
       "0    0.128571  \n",
       "1    0.115942  \n",
       "2    0.068966  \n",
       "3    0.121429  \n",
       "4    0.171429  "
      ]
     },
     "execution_count": 26,
     "metadata": {},
     "output_type": "execute_result"
    }
   ],
   "source": [
    "newTrain.head()"
   ]
  },
  {
   "cell_type": "code",
   "execution_count": 27,
   "metadata": {},
   "outputs": [],
   "source": [
    "train_x = newTrain.drop(columns=['truth','created','name','text'])"
   ]
  },
  {
   "cell_type": "code",
   "execution_count": 28,
   "metadata": {},
   "outputs": [],
   "source": [
    "train_x['day'] = train_x['day'].astype(int)\n",
    "train_x['hr'] = train_x['hr'].astype(int)\n",
    "train_x['month'] = train_x['month'].astype(int)"
   ]
  },
  {
   "cell_type": "code",
   "execution_count": 29,
   "metadata": {},
   "outputs": [
    {
     "data": {
      "text/plain": [
       "day                   int64\n",
       "hr                    int64\n",
       "month                 int64\n",
       "characters2           int64\n",
       "characters4           int64\n",
       "characters3           int64\n",
       "combined              int64\n",
       "words                 int64\n",
       "numbersInName         int64\n",
       "specialCharsText    float64\n",
       "capsInText          float64\n",
       "dtype: object"
      ]
     },
     "execution_count": 29,
     "metadata": {},
     "output_type": "execute_result"
    }
   ],
   "source": [
    "train_x.dtypes"
   ]
  },
  {
   "cell_type": "code",
   "execution_count": 30,
   "metadata": {},
   "outputs": [],
   "source": [
    "train_y = newTrain[['truth']]"
   ]
  },
  {
   "cell_type": "code",
   "execution_count": 31,
   "metadata": {},
   "outputs": [
    {
     "data": {
      "text/html": [
       "<div>\n",
       "<style scoped>\n",
       "    .dataframe tbody tr th:only-of-type {\n",
       "        vertical-align: middle;\n",
       "    }\n",
       "\n",
       "    .dataframe tbody tr th {\n",
       "        vertical-align: top;\n",
       "    }\n",
       "\n",
       "    .dataframe thead th {\n",
       "        text-align: right;\n",
       "    }\n",
       "</style>\n",
       "<table border=\"1\" class=\"dataframe\">\n",
       "  <thead>\n",
       "    <tr style=\"text-align: right;\">\n",
       "      <th></th>\n",
       "      <th>day</th>\n",
       "      <th>hr</th>\n",
       "      <th>month</th>\n",
       "      <th>characters2</th>\n",
       "      <th>characters4</th>\n",
       "      <th>characters3</th>\n",
       "      <th>combined</th>\n",
       "      <th>words</th>\n",
       "      <th>numbersInName</th>\n",
       "      <th>specialCharsText</th>\n",
       "      <th>capsInText</th>\n",
       "    </tr>\n",
       "  </thead>\n",
       "  <tbody>\n",
       "    <tr>\n",
       "      <th>0</th>\n",
       "      <td>11</td>\n",
       "      <td>20</td>\n",
       "      <td>10</td>\n",
       "      <td>-1</td>\n",
       "      <td>-1</td>\n",
       "      <td>-1</td>\n",
       "      <td>-1</td>\n",
       "      <td>-1</td>\n",
       "      <td>0</td>\n",
       "      <td>0.192857</td>\n",
       "      <td>0.128571</td>\n",
       "    </tr>\n",
       "    <tr>\n",
       "      <th>1</th>\n",
       "      <td>16</td>\n",
       "      <td>13</td>\n",
       "      <td>11</td>\n",
       "      <td>-1</td>\n",
       "      <td>-1</td>\n",
       "      <td>-1</td>\n",
       "      <td>-1</td>\n",
       "      <td>-1</td>\n",
       "      <td>0</td>\n",
       "      <td>0.217391</td>\n",
       "      <td>0.115942</td>\n",
       "    </tr>\n",
       "    <tr>\n",
       "      <th>2</th>\n",
       "      <td>25</td>\n",
       "      <td>9</td>\n",
       "      <td>4</td>\n",
       "      <td>1</td>\n",
       "      <td>1</td>\n",
       "      <td>1</td>\n",
       "      <td>1</td>\n",
       "      <td>1</td>\n",
       "      <td>0</td>\n",
       "      <td>0.393103</td>\n",
       "      <td>0.068966</td>\n",
       "    </tr>\n",
       "    <tr>\n",
       "      <th>3</th>\n",
       "      <td>13</td>\n",
       "      <td>13</td>\n",
       "      <td>9</td>\n",
       "      <td>-1</td>\n",
       "      <td>-1</td>\n",
       "      <td>-1</td>\n",
       "      <td>-1</td>\n",
       "      <td>-1</td>\n",
       "      <td>0</td>\n",
       "      <td>0.235714</td>\n",
       "      <td>0.121429</td>\n",
       "    </tr>\n",
       "    <tr>\n",
       "      <th>4</th>\n",
       "      <td>5</td>\n",
       "      <td>0</td>\n",
       "      <td>12</td>\n",
       "      <td>-1</td>\n",
       "      <td>-1</td>\n",
       "      <td>-1</td>\n",
       "      <td>-1</td>\n",
       "      <td>-1</td>\n",
       "      <td>0</td>\n",
       "      <td>0.207143</td>\n",
       "      <td>0.171429</td>\n",
       "    </tr>\n",
       "  </tbody>\n",
       "</table>\n",
       "</div>"
      ],
      "text/plain": [
       "   day  hr  month  characters2  characters4  characters3  combined  words  \\\n",
       "0   11  20     10           -1           -1           -1        -1     -1   \n",
       "1   16  13     11           -1           -1           -1        -1     -1   \n",
       "2   25   9      4            1            1            1         1      1   \n",
       "3   13  13      9           -1           -1           -1        -1     -1   \n",
       "4    5   0     12           -1           -1           -1        -1     -1   \n",
       "\n",
       "   numbersInName  specialCharsText  capsInText  \n",
       "0              0          0.192857    0.128571  \n",
       "1              0          0.217391    0.115942  \n",
       "2              0          0.393103    0.068966  \n",
       "3              0          0.235714    0.121429  \n",
       "4              0          0.207143    0.171429  "
      ]
     },
     "execution_count": 31,
     "metadata": {},
     "output_type": "execute_result"
    }
   ],
   "source": [
    "train_x.head()"
   ]
  },
  {
   "cell_type": "code",
   "execution_count": 32,
   "metadata": {},
   "outputs": [
    {
     "data": {
      "text/html": [
       "<div>\n",
       "<style scoped>\n",
       "    .dataframe tbody tr th:only-of-type {\n",
       "        vertical-align: middle;\n",
       "    }\n",
       "\n",
       "    .dataframe tbody tr th {\n",
       "        vertical-align: top;\n",
       "    }\n",
       "\n",
       "    .dataframe thead th {\n",
       "        text-align: right;\n",
       "    }\n",
       "</style>\n",
       "<table border=\"1\" class=\"dataframe\">\n",
       "  <thead>\n",
       "    <tr style=\"text-align: right;\">\n",
       "      <th></th>\n",
       "      <th>truth</th>\n",
       "    </tr>\n",
       "  </thead>\n",
       "  <tbody>\n",
       "    <tr>\n",
       "      <th>0</th>\n",
       "      <td>-1</td>\n",
       "    </tr>\n",
       "    <tr>\n",
       "      <th>1</th>\n",
       "      <td>-1</td>\n",
       "    </tr>\n",
       "    <tr>\n",
       "      <th>2</th>\n",
       "      <td>1</td>\n",
       "    </tr>\n",
       "    <tr>\n",
       "      <th>3</th>\n",
       "      <td>-1</td>\n",
       "    </tr>\n",
       "    <tr>\n",
       "      <th>4</th>\n",
       "      <td>-1</td>\n",
       "    </tr>\n",
       "  </tbody>\n",
       "</table>\n",
       "</div>"
      ],
      "text/plain": [
       "   truth\n",
       "0     -1\n",
       "1     -1\n",
       "2      1\n",
       "3     -1\n",
       "4     -1"
      ]
     },
     "execution_count": 32,
     "metadata": {},
     "output_type": "execute_result"
    }
   ],
   "source": [
    "train_y.head()"
   ]
  },
  {
   "cell_type": "code",
   "execution_count": null,
   "metadata": {},
   "outputs": [],
   "source": []
  }
 ],
 "metadata": {
  "kernelspec": {
   "display_name": "Python 3",
   "language": "python",
   "name": "python3"
  },
  "language_info": {
   "codemirror_mode": {
    "name": "ipython",
    "version": 3
   },
   "file_extension": ".py",
   "mimetype": "text/x-python",
   "name": "python",
   "nbconvert_exporter": "python",
   "pygments_lexer": "ipython3",
   "version": "3.5.3"
  }
 },
 "nbformat": 4,
 "nbformat_minor": 4
}
