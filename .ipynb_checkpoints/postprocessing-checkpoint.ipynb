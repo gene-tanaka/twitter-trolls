{
 "cells": [
  {
   "cell_type": "code",
   "execution_count": 1,
   "metadata": {},
   "outputs": [],
   "source": [
    "import random\n",
    "import collections\n",
    "import math\n",
    "import sys\n",
    "import copy\n",
    "import pandas as pd\n",
    "import os\n",
    "import datetime\n",
    "import numpy as np\n",
    "import seaborn as sns\n",
    "import matplotlib.pyplot as plt"
   ]
  },
  {
   "cell_type": "code",
   "execution_count": 2,
   "metadata": {},
   "outputs": [],
   "source": [
    "newTrain = pd.read_csv('newTrain.csv')"
   ]
  },
  {
   "cell_type": "code",
   "execution_count": 3,
   "metadata": {},
   "outputs": [],
   "source": [
    "newTest = pd.read_csv('newTest.csv')"
   ]
  },
  {
   "cell_type": "code",
   "execution_count": 4,
   "metadata": {},
   "outputs": [],
   "source": [
    "newTrain.drop(newTrain.columns[0],axis=1,inplace=True)\n",
    "newTest.drop(newTest.columns[0],axis=1,inplace=True)"
   ]
  },
  {
   "cell_type": "code",
   "execution_count": 5,
   "metadata": {},
   "outputs": [],
   "source": [
    "newTrain['truth'] += 1\n",
    "newTrain['truth'] /= 2\n",
    "\n",
    "newTrain['characters2'] += 1\n",
    "newTrain['characters2'] /= 2\n",
    "\n",
    "newTrain['characters3'] += 1\n",
    "newTrain['characters3'] /= 2\n",
    "\n",
    "newTrain['characters4'] += 1\n",
    "newTrain['characters4'] /= 2\n",
    "\n",
    "newTrain['combined'] += 1\n",
    "newTrain['combined'] /= 2\n",
    "\n",
    "newTrain['words'] += 1\n",
    "newTrain['words'] /= 2\n",
    "\n",
    "\n",
    "\n",
    "newTest['truth'] += 1\n",
    "newTest['truth'] /= 2\n",
    "\n",
    "newTest['characters2'] += 1\n",
    "newTest['characters2'] /= 2\n",
    "\n",
    "newTest['characters3'] += 1\n",
    "newTest['characters3'] /= 2\n",
    "\n",
    "newTest['characters4'] += 1\n",
    "newTest['characters4'] /= 2\n",
    "\n",
    "newTest['combined'] += 1\n",
    "newTest['combined'] /= 2\n",
    "\n",
    "newTest['words'] += 1\n",
    "newTest['words'] /= 2"
   ]
  },
  {
   "cell_type": "code",
   "execution_count": 6,
   "metadata": {},
   "outputs": [
    {
     "data": {
      "text/html": [
       "<div>\n",
       "<style scoped>\n",
       "    .dataframe tbody tr th:only-of-type {\n",
       "        vertical-align: middle;\n",
       "    }\n",
       "\n",
       "    .dataframe tbody tr th {\n",
       "        vertical-align: top;\n",
       "    }\n",
       "\n",
       "    .dataframe thead th {\n",
       "        text-align: right;\n",
       "    }\n",
       "</style>\n",
       "<table border=\"1\" class=\"dataframe\">\n",
       "  <thead>\n",
       "    <tr style=\"text-align: right;\">\n",
       "      <th></th>\n",
       "      <th>created</th>\n",
       "      <th>day</th>\n",
       "      <th>hr</th>\n",
       "      <th>month</th>\n",
       "      <th>name</th>\n",
       "      <th>text</th>\n",
       "      <th>truth</th>\n",
       "      <th>characters2</th>\n",
       "      <th>characters4</th>\n",
       "      <th>characters3</th>\n",
       "      <th>combined</th>\n",
       "      <th>words</th>\n",
       "      <th>numbersInName</th>\n",
       "      <th>specialCharsText</th>\n",
       "      <th>capsInText</th>\n",
       "      <th>hashTags</th>\n",
       "      <th>mentions</th>\n",
       "    </tr>\n",
       "  </thead>\n",
       "  <tbody>\n",
       "    <tr>\n",
       "      <th>0</th>\n",
       "      <td>2017-03-12 14:05:59</td>\n",
       "      <td>12.0</td>\n",
       "      <td>14.0</td>\n",
       "      <td>3.0</td>\n",
       "      <td>queenofthewo</td>\n",
       "      <td>Dude, you need friends  #UnlikelyMagic8BallAns...</td>\n",
       "      <td>0.0</td>\n",
       "      <td>0.0</td>\n",
       "      <td>0.0</td>\n",
       "      <td>0.0</td>\n",
       "      <td>0.0</td>\n",
       "      <td>0.0</td>\n",
       "      <td>0</td>\n",
       "      <td>0.160000</td>\n",
       "      <td>0.100000</td>\n",
       "      <td>0.020000</td>\n",
       "      <td>0.000000</td>\n",
       "    </tr>\n",
       "    <tr>\n",
       "      <th>1</th>\n",
       "      <td>2013-02-10 02:01:00</td>\n",
       "      <td>10.0</td>\n",
       "      <td>2.0</td>\n",
       "      <td>2.0</td>\n",
       "      <td>flozimoet</td>\n",
       "      <td>Love likes the fire, it can‰ЫЄt be made a fool...</td>\n",
       "      <td>1.0</td>\n",
       "      <td>1.0</td>\n",
       "      <td>1.0</td>\n",
       "      <td>1.0</td>\n",
       "      <td>1.0</td>\n",
       "      <td>1.0</td>\n",
       "      <td>0</td>\n",
       "      <td>0.271429</td>\n",
       "      <td>0.014286</td>\n",
       "      <td>0.000000</td>\n",
       "      <td>0.000000</td>\n",
       "    </tr>\n",
       "    <tr>\n",
       "      <th>2</th>\n",
       "      <td>2016-10-20 15:20:01</td>\n",
       "      <td>20.0</td>\n",
       "      <td>15.0</td>\n",
       "      <td>10.0</td>\n",
       "      <td>ten_gop</td>\n",
       "      <td>\"This isn't a Justice Department anymore. This...</td>\n",
       "      <td>0.0</td>\n",
       "      <td>0.0</td>\n",
       "      <td>0.0</td>\n",
       "      <td>0.0</td>\n",
       "      <td>0.0</td>\n",
       "      <td>0.0</td>\n",
       "      <td>0</td>\n",
       "      <td>0.223077</td>\n",
       "      <td>0.100000</td>\n",
       "      <td>0.000000</td>\n",
       "      <td>0.000000</td>\n",
       "    </tr>\n",
       "    <tr>\n",
       "      <th>3</th>\n",
       "      <td>2010-06-01 14:56:00</td>\n",
       "      <td>1.0</td>\n",
       "      <td>14.0</td>\n",
       "      <td>6.0</td>\n",
       "      <td>samwagik</td>\n",
       "      <td>Happy birthday to my oga at the top @ukenyatta...</td>\n",
       "      <td>1.0</td>\n",
       "      <td>1.0</td>\n",
       "      <td>1.0</td>\n",
       "      <td>1.0</td>\n",
       "      <td>1.0</td>\n",
       "      <td>1.0</td>\n",
       "      <td>0</td>\n",
       "      <td>0.186441</td>\n",
       "      <td>0.050847</td>\n",
       "      <td>0.016949</td>\n",
       "      <td>0.016949</td>\n",
       "    </tr>\n",
       "    <tr>\n",
       "      <th>4</th>\n",
       "      <td>2017-03-31 09:42:00</td>\n",
       "      <td>31.0</td>\n",
       "      <td>9.0</td>\n",
       "      <td>3.0</td>\n",
       "      <td>mrclydepratt</td>\n",
       "      <td>RT @lenaporter23: Hell! They put the drugs in ...</td>\n",
       "      <td>0.0</td>\n",
       "      <td>0.0</td>\n",
       "      <td>0.0</td>\n",
       "      <td>0.0</td>\n",
       "      <td>0.0</td>\n",
       "      <td>0.0</td>\n",
       "      <td>0</td>\n",
       "      <td>0.250000</td>\n",
       "      <td>0.119565</td>\n",
       "      <td>0.000000</td>\n",
       "      <td>0.010870</td>\n",
       "    </tr>\n",
       "  </tbody>\n",
       "</table>\n",
       "</div>"
      ],
      "text/plain": [
       "               created   day    hr  month          name  \\\n",
       "0  2017-03-12 14:05:59  12.0  14.0    3.0  queenofthewo   \n",
       "1  2013-02-10 02:01:00  10.0   2.0    2.0     flozimoet   \n",
       "2  2016-10-20 15:20:01  20.0  15.0   10.0       ten_gop   \n",
       "3  2010-06-01 14:56:00   1.0  14.0    6.0      samwagik   \n",
       "4  2017-03-31 09:42:00  31.0   9.0    3.0  mrclydepratt   \n",
       "\n",
       "                                                text  truth  characters2  \\\n",
       "0  Dude, you need friends  #UnlikelyMagic8BallAns...    0.0          0.0   \n",
       "1  Love likes the fire, it can‰ЫЄt be made a fool...    1.0          1.0   \n",
       "2  \"This isn't a Justice Department anymore. This...    0.0          0.0   \n",
       "3  Happy birthday to my oga at the top @ukenyatta...    1.0          1.0   \n",
       "4  RT @lenaporter23: Hell! They put the drugs in ...    0.0          0.0   \n",
       "\n",
       "   characters4  characters3  combined  words  numbersInName  specialCharsText  \\\n",
       "0          0.0          0.0       0.0    0.0              0          0.160000   \n",
       "1          1.0          1.0       1.0    1.0              0          0.271429   \n",
       "2          0.0          0.0       0.0    0.0              0          0.223077   \n",
       "3          1.0          1.0       1.0    1.0              0          0.186441   \n",
       "4          0.0          0.0       0.0    0.0              0          0.250000   \n",
       "\n",
       "   capsInText  hashTags  mentions  \n",
       "0    0.100000  0.020000  0.000000  \n",
       "1    0.014286  0.000000  0.000000  \n",
       "2    0.100000  0.000000  0.000000  \n",
       "3    0.050847  0.016949  0.016949  \n",
       "4    0.119565  0.000000  0.010870  "
      ]
     },
     "execution_count": 6,
     "metadata": {},
     "output_type": "execute_result"
    }
   ],
   "source": [
    "newTrain.head()"
   ]
  },
  {
   "cell_type": "code",
   "execution_count": 7,
   "metadata": {},
   "outputs": [
    {
     "data": {
      "text/plain": [
       "(20000, 17)"
      ]
     },
     "execution_count": 7,
     "metadata": {},
     "output_type": "execute_result"
    }
   ],
   "source": [
    "newTrain.shape"
   ]
  },
  {
   "cell_type": "code",
   "execution_count": 8,
   "metadata": {},
   "outputs": [
    {
     "data": {
      "text/plain": [
       "(2000, 17)"
      ]
     },
     "execution_count": 8,
     "metadata": {},
     "output_type": "execute_result"
    }
   ],
   "source": [
    "newTest.shape"
   ]
  },
  {
   "cell_type": "code",
   "execution_count": 9,
   "metadata": {},
   "outputs": [],
   "source": [
    "train_x = newTrain.drop(columns=['truth','created','name','text'])\n",
    "train_x['day'] = train_x['day'].astype(int)\n",
    "train_x['hr'] = train_x['hr'].astype(int)\n",
    "train_x['month'] = train_x['month'].astype(int)\n",
    "\n",
    "train_y = newTrain[['truth']]"
   ]
  },
  {
   "cell_type": "code",
   "execution_count": 10,
   "metadata": {},
   "outputs": [],
   "source": [
    "test_x = newTest.drop(columns=['truth','created','name','text'])\n",
    "test_x['day'] = test_x['day'].astype(int)\n",
    "test_x['hr'] = test_x['hr'].astype(int)\n",
    "test_x['month'] = test_x['month'].astype(int)\n",
    "\n",
    "test_y = newTest[['truth']]"
   ]
  },
  {
   "cell_type": "code",
   "execution_count": 11,
   "metadata": {},
   "outputs": [
    {
     "data": {
      "text/html": [
       "<div>\n",
       "<style scoped>\n",
       "    .dataframe tbody tr th:only-of-type {\n",
       "        vertical-align: middle;\n",
       "    }\n",
       "\n",
       "    .dataframe tbody tr th {\n",
       "        vertical-align: top;\n",
       "    }\n",
       "\n",
       "    .dataframe thead th {\n",
       "        text-align: right;\n",
       "    }\n",
       "</style>\n",
       "<table border=\"1\" class=\"dataframe\">\n",
       "  <thead>\n",
       "    <tr style=\"text-align: right;\">\n",
       "      <th></th>\n",
       "      <th>day</th>\n",
       "      <th>hr</th>\n",
       "      <th>month</th>\n",
       "      <th>characters2</th>\n",
       "      <th>characters4</th>\n",
       "      <th>characters3</th>\n",
       "      <th>combined</th>\n",
       "      <th>words</th>\n",
       "      <th>numbersInName</th>\n",
       "      <th>specialCharsText</th>\n",
       "      <th>capsInText</th>\n",
       "      <th>hashTags</th>\n",
       "      <th>mentions</th>\n",
       "    </tr>\n",
       "  </thead>\n",
       "  <tbody>\n",
       "    <tr>\n",
       "      <th>count</th>\n",
       "      <td>20000.00000</td>\n",
       "      <td>20000.000000</td>\n",
       "      <td>20000.000000</td>\n",
       "      <td>20000.000000</td>\n",
       "      <td>20000.000000</td>\n",
       "      <td>20000.000000</td>\n",
       "      <td>20000.000000</td>\n",
       "      <td>20000.00000</td>\n",
       "      <td>20000.000000</td>\n",
       "      <td>20000.000000</td>\n",
       "      <td>20000.000000</td>\n",
       "      <td>20000.000000</td>\n",
       "      <td>20000.000000</td>\n",
       "    </tr>\n",
       "    <tr>\n",
       "      <th>mean</th>\n",
       "      <td>15.92260</td>\n",
       "      <td>12.208700</td>\n",
       "      <td>6.694600</td>\n",
       "      <td>0.502600</td>\n",
       "      <td>0.500000</td>\n",
       "      <td>0.500350</td>\n",
       "      <td>0.500900</td>\n",
       "      <td>0.50655</td>\n",
       "      <td>0.604450</td>\n",
       "      <td>0.238764</td>\n",
       "      <td>0.107062</td>\n",
       "      <td>0.005907</td>\n",
       "      <td>0.007578</td>\n",
       "    </tr>\n",
       "    <tr>\n",
       "      <th>std</th>\n",
       "      <td>8.58321</td>\n",
       "      <td>6.002103</td>\n",
       "      <td>3.574069</td>\n",
       "      <td>0.500006</td>\n",
       "      <td>0.500013</td>\n",
       "      <td>0.500012</td>\n",
       "      <td>0.500012</td>\n",
       "      <td>0.49997</td>\n",
       "      <td>1.432373</td>\n",
       "      <td>0.054246</td>\n",
       "      <td>0.087240</td>\n",
       "      <td>0.010341</td>\n",
       "      <td>0.010028</td>\n",
       "    </tr>\n",
       "    <tr>\n",
       "      <th>min</th>\n",
       "      <td>1.00000</td>\n",
       "      <td>0.000000</td>\n",
       "      <td>1.000000</td>\n",
       "      <td>0.000000</td>\n",
       "      <td>0.000000</td>\n",
       "      <td>0.000000</td>\n",
       "      <td>0.000000</td>\n",
       "      <td>0.00000</td>\n",
       "      <td>0.000000</td>\n",
       "      <td>0.000000</td>\n",
       "      <td>0.000000</td>\n",
       "      <td>0.000000</td>\n",
       "      <td>0.000000</td>\n",
       "    </tr>\n",
       "    <tr>\n",
       "      <th>25%</th>\n",
       "      <td>8.00000</td>\n",
       "      <td>8.000000</td>\n",
       "      <td>3.000000</td>\n",
       "      <td>0.000000</td>\n",
       "      <td>0.000000</td>\n",
       "      <td>0.000000</td>\n",
       "      <td>0.000000</td>\n",
       "      <td>0.00000</td>\n",
       "      <td>0.000000</td>\n",
       "      <td>0.205607</td>\n",
       "      <td>0.054054</td>\n",
       "      <td>0.000000</td>\n",
       "      <td>0.000000</td>\n",
       "    </tr>\n",
       "    <tr>\n",
       "      <th>50%</th>\n",
       "      <td>16.00000</td>\n",
       "      <td>13.000000</td>\n",
       "      <td>7.000000</td>\n",
       "      <td>1.000000</td>\n",
       "      <td>0.500000</td>\n",
       "      <td>1.000000</td>\n",
       "      <td>1.000000</td>\n",
       "      <td>1.00000</td>\n",
       "      <td>0.000000</td>\n",
       "      <td>0.233577</td>\n",
       "      <td>0.096774</td>\n",
       "      <td>0.000000</td>\n",
       "      <td>0.007143</td>\n",
       "    </tr>\n",
       "    <tr>\n",
       "      <th>75%</th>\n",
       "      <td>23.00000</td>\n",
       "      <td>17.000000</td>\n",
       "      <td>10.000000</td>\n",
       "      <td>1.000000</td>\n",
       "      <td>1.000000</td>\n",
       "      <td>1.000000</td>\n",
       "      <td>1.000000</td>\n",
       "      <td>1.00000</td>\n",
       "      <td>0.000000</td>\n",
       "      <td>0.267857</td>\n",
       "      <td>0.134921</td>\n",
       "      <td>0.009615</td>\n",
       "      <td>0.011765</td>\n",
       "    </tr>\n",
       "    <tr>\n",
       "      <th>max</th>\n",
       "      <td>31.00000</td>\n",
       "      <td>23.000000</td>\n",
       "      <td>12.000000</td>\n",
       "      <td>1.000000</td>\n",
       "      <td>1.000000</td>\n",
       "      <td>1.000000</td>\n",
       "      <td>1.000000</td>\n",
       "      <td>1.00000</td>\n",
       "      <td>12.000000</td>\n",
       "      <td>1.000000</td>\n",
       "      <td>1.000000</td>\n",
       "      <td>0.166667</td>\n",
       "      <td>0.093525</td>\n",
       "    </tr>\n",
       "  </tbody>\n",
       "</table>\n",
       "</div>"
      ],
      "text/plain": [
       "               day            hr         month   characters2   characters4  \\\n",
       "count  20000.00000  20000.000000  20000.000000  20000.000000  20000.000000   \n",
       "mean      15.92260     12.208700      6.694600      0.502600      0.500000   \n",
       "std        8.58321      6.002103      3.574069      0.500006      0.500013   \n",
       "min        1.00000      0.000000      1.000000      0.000000      0.000000   \n",
       "25%        8.00000      8.000000      3.000000      0.000000      0.000000   \n",
       "50%       16.00000     13.000000      7.000000      1.000000      0.500000   \n",
       "75%       23.00000     17.000000     10.000000      1.000000      1.000000   \n",
       "max       31.00000     23.000000     12.000000      1.000000      1.000000   \n",
       "\n",
       "        characters3      combined        words  numbersInName  \\\n",
       "count  20000.000000  20000.000000  20000.00000   20000.000000   \n",
       "mean       0.500350      0.500900      0.50655       0.604450   \n",
       "std        0.500012      0.500012      0.49997       1.432373   \n",
       "min        0.000000      0.000000      0.00000       0.000000   \n",
       "25%        0.000000      0.000000      0.00000       0.000000   \n",
       "50%        1.000000      1.000000      1.00000       0.000000   \n",
       "75%        1.000000      1.000000      1.00000       0.000000   \n",
       "max        1.000000      1.000000      1.00000      12.000000   \n",
       "\n",
       "       specialCharsText    capsInText      hashTags      mentions  \n",
       "count      20000.000000  20000.000000  20000.000000  20000.000000  \n",
       "mean           0.238764      0.107062      0.005907      0.007578  \n",
       "std            0.054246      0.087240      0.010341      0.010028  \n",
       "min            0.000000      0.000000      0.000000      0.000000  \n",
       "25%            0.205607      0.054054      0.000000      0.000000  \n",
       "50%            0.233577      0.096774      0.000000      0.007143  \n",
       "75%            0.267857      0.134921      0.009615      0.011765  \n",
       "max            1.000000      1.000000      0.166667      0.093525  "
      ]
     },
     "execution_count": 11,
     "metadata": {},
     "output_type": "execute_result"
    }
   ],
   "source": [
    "train_x.describe(include='all')"
   ]
  },
  {
   "cell_type": "code",
   "execution_count": 12,
   "metadata": {},
   "outputs": [],
   "source": [
    "# sns.pairplot(train_x)"
   ]
  },
  {
   "cell_type": "code",
   "execution_count": 13,
   "metadata": {},
   "outputs": [],
   "source": [
    "# sns.heatmap(train_x.corr(), annot=True)"
   ]
  },
  {
   "cell_type": "code",
   "execution_count": 14,
   "metadata": {},
   "outputs": [
    {
     "data": {
      "text/html": [
       "<div>\n",
       "<style scoped>\n",
       "    .dataframe tbody tr th:only-of-type {\n",
       "        vertical-align: middle;\n",
       "    }\n",
       "\n",
       "    .dataframe tbody tr th {\n",
       "        vertical-align: top;\n",
       "    }\n",
       "\n",
       "    .dataframe thead th {\n",
       "        text-align: right;\n",
       "    }\n",
       "</style>\n",
       "<table border=\"1\" class=\"dataframe\">\n",
       "  <thead>\n",
       "    <tr style=\"text-align: right;\">\n",
       "      <th></th>\n",
       "      <th>day</th>\n",
       "      <th>hr</th>\n",
       "      <th>month</th>\n",
       "      <th>characters2</th>\n",
       "      <th>characters4</th>\n",
       "      <th>characters3</th>\n",
       "      <th>combined</th>\n",
       "      <th>words</th>\n",
       "      <th>numbersInName</th>\n",
       "      <th>specialCharsText</th>\n",
       "      <th>capsInText</th>\n",
       "      <th>hashTags</th>\n",
       "      <th>mentions</th>\n",
       "    </tr>\n",
       "  </thead>\n",
       "  <tbody>\n",
       "    <tr>\n",
       "      <th>0</th>\n",
       "      <td>12</td>\n",
       "      <td>14</td>\n",
       "      <td>3</td>\n",
       "      <td>0.0</td>\n",
       "      <td>0.0</td>\n",
       "      <td>0.0</td>\n",
       "      <td>0.0</td>\n",
       "      <td>0.0</td>\n",
       "      <td>0</td>\n",
       "      <td>0.160000</td>\n",
       "      <td>0.100000</td>\n",
       "      <td>0.020000</td>\n",
       "      <td>0.000000</td>\n",
       "    </tr>\n",
       "    <tr>\n",
       "      <th>1</th>\n",
       "      <td>10</td>\n",
       "      <td>2</td>\n",
       "      <td>2</td>\n",
       "      <td>1.0</td>\n",
       "      <td>1.0</td>\n",
       "      <td>1.0</td>\n",
       "      <td>1.0</td>\n",
       "      <td>1.0</td>\n",
       "      <td>0</td>\n",
       "      <td>0.271429</td>\n",
       "      <td>0.014286</td>\n",
       "      <td>0.000000</td>\n",
       "      <td>0.000000</td>\n",
       "    </tr>\n",
       "    <tr>\n",
       "      <th>2</th>\n",
       "      <td>20</td>\n",
       "      <td>15</td>\n",
       "      <td>10</td>\n",
       "      <td>0.0</td>\n",
       "      <td>0.0</td>\n",
       "      <td>0.0</td>\n",
       "      <td>0.0</td>\n",
       "      <td>0.0</td>\n",
       "      <td>0</td>\n",
       "      <td>0.223077</td>\n",
       "      <td>0.100000</td>\n",
       "      <td>0.000000</td>\n",
       "      <td>0.000000</td>\n",
       "    </tr>\n",
       "    <tr>\n",
       "      <th>3</th>\n",
       "      <td>1</td>\n",
       "      <td>14</td>\n",
       "      <td>6</td>\n",
       "      <td>1.0</td>\n",
       "      <td>1.0</td>\n",
       "      <td>1.0</td>\n",
       "      <td>1.0</td>\n",
       "      <td>1.0</td>\n",
       "      <td>0</td>\n",
       "      <td>0.186441</td>\n",
       "      <td>0.050847</td>\n",
       "      <td>0.016949</td>\n",
       "      <td>0.016949</td>\n",
       "    </tr>\n",
       "    <tr>\n",
       "      <th>4</th>\n",
       "      <td>31</td>\n",
       "      <td>9</td>\n",
       "      <td>3</td>\n",
       "      <td>0.0</td>\n",
       "      <td>0.0</td>\n",
       "      <td>0.0</td>\n",
       "      <td>0.0</td>\n",
       "      <td>0.0</td>\n",
       "      <td>0</td>\n",
       "      <td>0.250000</td>\n",
       "      <td>0.119565</td>\n",
       "      <td>0.000000</td>\n",
       "      <td>0.010870</td>\n",
       "    </tr>\n",
       "  </tbody>\n",
       "</table>\n",
       "</div>"
      ],
      "text/plain": [
       "   day  hr  month  characters2  characters4  characters3  combined  words  \\\n",
       "0   12  14      3          0.0          0.0          0.0       0.0    0.0   \n",
       "1   10   2      2          1.0          1.0          1.0       1.0    1.0   \n",
       "2   20  15     10          0.0          0.0          0.0       0.0    0.0   \n",
       "3    1  14      6          1.0          1.0          1.0       1.0    1.0   \n",
       "4   31   9      3          0.0          0.0          0.0       0.0    0.0   \n",
       "\n",
       "   numbersInName  specialCharsText  capsInText  hashTags  mentions  \n",
       "0              0          0.160000    0.100000  0.020000  0.000000  \n",
       "1              0          0.271429    0.014286  0.000000  0.000000  \n",
       "2              0          0.223077    0.100000  0.000000  0.000000  \n",
       "3              0          0.186441    0.050847  0.016949  0.016949  \n",
       "4              0          0.250000    0.119565  0.000000  0.010870  "
      ]
     },
     "execution_count": 14,
     "metadata": {},
     "output_type": "execute_result"
    }
   ],
   "source": [
    "train_x.head()"
   ]
  },
  {
   "cell_type": "code",
   "execution_count": 15,
   "metadata": {},
   "outputs": [
    {
     "data": {
      "text/html": [
       "<div>\n",
       "<style scoped>\n",
       "    .dataframe tbody tr th:only-of-type {\n",
       "        vertical-align: middle;\n",
       "    }\n",
       "\n",
       "    .dataframe tbody tr th {\n",
       "        vertical-align: top;\n",
       "    }\n",
       "\n",
       "    .dataframe thead th {\n",
       "        text-align: right;\n",
       "    }\n",
       "</style>\n",
       "<table border=\"1\" class=\"dataframe\">\n",
       "  <thead>\n",
       "    <tr style=\"text-align: right;\">\n",
       "      <th></th>\n",
       "      <th>truth</th>\n",
       "    </tr>\n",
       "  </thead>\n",
       "  <tbody>\n",
       "    <tr>\n",
       "      <th>0</th>\n",
       "      <td>0.0</td>\n",
       "    </tr>\n",
       "    <tr>\n",
       "      <th>1</th>\n",
       "      <td>1.0</td>\n",
       "    </tr>\n",
       "    <tr>\n",
       "      <th>2</th>\n",
       "      <td>0.0</td>\n",
       "    </tr>\n",
       "    <tr>\n",
       "      <th>3</th>\n",
       "      <td>1.0</td>\n",
       "    </tr>\n",
       "    <tr>\n",
       "      <th>4</th>\n",
       "      <td>0.0</td>\n",
       "    </tr>\n",
       "  </tbody>\n",
       "</table>\n",
       "</div>"
      ],
      "text/plain": [
       "   truth\n",
       "0    0.0\n",
       "1    1.0\n",
       "2    0.0\n",
       "3    1.0\n",
       "4    0.0"
      ]
     },
     "execution_count": 15,
     "metadata": {},
     "output_type": "execute_result"
    }
   ],
   "source": [
    "train_y.head()"
   ]
  },
  {
   "cell_type": "code",
   "execution_count": 16,
   "metadata": {},
   "outputs": [],
   "source": [
    "train_x_dropped = train_x.drop(columns=['day','hr','month','capsInText','hashTags','mentions'])"
   ]
  },
  {
   "cell_type": "code",
   "execution_count": 17,
   "metadata": {},
   "outputs": [],
   "source": [
    "test_x_dropped = test_x.drop(columns=['day','hr','month','capsInText','hashTags','mentions'])"
   ]
  },
  {
   "cell_type": "code",
   "execution_count": 18,
   "metadata": {},
   "outputs": [
    {
     "data": {
      "text/html": [
       "<div>\n",
       "<style scoped>\n",
       "    .dataframe tbody tr th:only-of-type {\n",
       "        vertical-align: middle;\n",
       "    }\n",
       "\n",
       "    .dataframe tbody tr th {\n",
       "        vertical-align: top;\n",
       "    }\n",
       "\n",
       "    .dataframe thead th {\n",
       "        text-align: right;\n",
       "    }\n",
       "</style>\n",
       "<table border=\"1\" class=\"dataframe\">\n",
       "  <thead>\n",
       "    <tr style=\"text-align: right;\">\n",
       "      <th></th>\n",
       "      <th>characters2</th>\n",
       "      <th>characters4</th>\n",
       "      <th>characters3</th>\n",
       "      <th>combined</th>\n",
       "      <th>words</th>\n",
       "      <th>numbersInName</th>\n",
       "      <th>specialCharsText</th>\n",
       "    </tr>\n",
       "  </thead>\n",
       "  <tbody>\n",
       "    <tr>\n",
       "      <th>0</th>\n",
       "      <td>0.0</td>\n",
       "      <td>0.0</td>\n",
       "      <td>0.0</td>\n",
       "      <td>0.0</td>\n",
       "      <td>0.0</td>\n",
       "      <td>0</td>\n",
       "      <td>0.160000</td>\n",
       "    </tr>\n",
       "    <tr>\n",
       "      <th>1</th>\n",
       "      <td>1.0</td>\n",
       "      <td>1.0</td>\n",
       "      <td>1.0</td>\n",
       "      <td>1.0</td>\n",
       "      <td>1.0</td>\n",
       "      <td>0</td>\n",
       "      <td>0.271429</td>\n",
       "    </tr>\n",
       "    <tr>\n",
       "      <th>2</th>\n",
       "      <td>0.0</td>\n",
       "      <td>0.0</td>\n",
       "      <td>0.0</td>\n",
       "      <td>0.0</td>\n",
       "      <td>0.0</td>\n",
       "      <td>0</td>\n",
       "      <td>0.223077</td>\n",
       "    </tr>\n",
       "    <tr>\n",
       "      <th>3</th>\n",
       "      <td>1.0</td>\n",
       "      <td>1.0</td>\n",
       "      <td>1.0</td>\n",
       "      <td>1.0</td>\n",
       "      <td>1.0</td>\n",
       "      <td>0</td>\n",
       "      <td>0.186441</td>\n",
       "    </tr>\n",
       "    <tr>\n",
       "      <th>4</th>\n",
       "      <td>0.0</td>\n",
       "      <td>0.0</td>\n",
       "      <td>0.0</td>\n",
       "      <td>0.0</td>\n",
       "      <td>0.0</td>\n",
       "      <td>0</td>\n",
       "      <td>0.250000</td>\n",
       "    </tr>\n",
       "  </tbody>\n",
       "</table>\n",
       "</div>"
      ],
      "text/plain": [
       "   characters2  characters4  characters3  combined  words  numbersInName  \\\n",
       "0          0.0          0.0          0.0       0.0    0.0              0   \n",
       "1          1.0          1.0          1.0       1.0    1.0              0   \n",
       "2          0.0          0.0          0.0       0.0    0.0              0   \n",
       "3          1.0          1.0          1.0       1.0    1.0              0   \n",
       "4          0.0          0.0          0.0       0.0    0.0              0   \n",
       "\n",
       "   specialCharsText  \n",
       "0          0.160000  \n",
       "1          0.271429  \n",
       "2          0.223077  \n",
       "3          0.186441  \n",
       "4          0.250000  "
      ]
     },
     "execution_count": 18,
     "metadata": {},
     "output_type": "execute_result"
    }
   ],
   "source": [
    "train_x_dropped.head()"
   ]
  },
  {
   "cell_type": "code",
   "execution_count": 19,
   "metadata": {},
   "outputs": [],
   "source": [
    "# np_train_x = train_x.to_numpy()\n",
    "np_train_y = train_y.to_numpy()\n",
    "\n",
    "# np_test_x = test_x.to_numpy()\n",
    "np_test_y = test_y.to_numpy()\n",
    "\n",
    "np_train_x = train_x_dropped.to_numpy()\n",
    "np_test_x = test_x_dropped.to_numpy()"
   ]
  },
  {
   "cell_type": "code",
   "execution_count": 20,
   "metadata": {},
   "outputs": [
    {
     "data": {
      "text/plain": [
       "array([[0.        , 0.        , 0.        , ..., 0.        , 0.        ,\n",
       "        0.16      ],\n",
       "       [1.        , 1.        , 1.        , ..., 1.        , 0.        ,\n",
       "        0.27142857],\n",
       "       [0.        , 0.        , 0.        , ..., 0.        , 0.        ,\n",
       "        0.22307692],\n",
       "       ...,\n",
       "       [1.        , 1.        , 1.        , ..., 1.        , 0.        ,\n",
       "        0.27737226],\n",
       "       [1.        , 1.        , 1.        , ..., 1.        , 0.        ,\n",
       "        0.2       ],\n",
       "       [0.        , 0.        , 0.        , ..., 0.        , 0.        ,\n",
       "        0.24603175]])"
      ]
     },
     "execution_count": 20,
     "metadata": {},
     "output_type": "execute_result"
    }
   ],
   "source": [
    "np_train_x"
   ]
  },
  {
   "cell_type": "code",
   "execution_count": 21,
   "metadata": {},
   "outputs": [
    {
     "data": {
      "text/plain": [
       "array([[0.],\n",
       "       [1.],\n",
       "       [0.],\n",
       "       ...,\n",
       "       [1.],\n",
       "       [1.],\n",
       "       [0.]])"
      ]
     },
     "execution_count": 21,
     "metadata": {},
     "output_type": "execute_result"
    }
   ],
   "source": [
    "np_train_y"
   ]
  },
  {
   "cell_type": "code",
   "execution_count": 22,
   "metadata": {},
   "outputs": [],
   "source": [
    "from sklearn.preprocessing import StandardScaler\n",
    "sc = StandardScaler()\n",
    "np_train_x = sc.fit_transform(np_train_x)\n",
    "np_test_x = sc.fit_transform(np_test_x)"
   ]
  },
  {
   "cell_type": "code",
   "execution_count": 23,
   "metadata": {},
   "outputs": [
    {
     "data": {
      "text/plain": [
       "array([[-1.00521359, -1.        , -1.00070025, ..., -1.01318694,\n",
       "        -0.42200255, -1.45200904],\n",
       "       [ 0.99481345,  1.        ,  0.99930024, ...,  0.98698469,\n",
       "        -0.42200255,  0.60216218],\n",
       "       [-1.00521359, -1.        , -1.00070025, ..., -1.01318694,\n",
       "        -0.42200255, -0.28919417],\n",
       "       ...,\n",
       "       [ 0.99481345,  1.        ,  0.99930024, ...,  0.98698469,\n",
       "        -0.42200255,  0.71173335],\n",
       "       [ 0.99481345,  1.        ,  0.99930024, ...,  0.98698469,\n",
       "        -0.42200255, -0.71461424],\n",
       "       [-1.00521359, -1.        , -1.00070025, ..., -1.01318694,\n",
       "        -0.42200255,  0.13397501]])"
      ]
     },
     "execution_count": 23,
     "metadata": {},
     "output_type": "execute_result"
    }
   ],
   "source": [
    "np_train_x"
   ]
  },
  {
   "cell_type": "code",
   "execution_count": 24,
   "metadata": {},
   "outputs": [
    {
     "name": "stderr",
     "output_type": "stream",
     "text": [
      "Using TensorFlow backend.\n"
     ]
    }
   ],
   "source": [
    "import tensorflow as tf\n",
    "from tensorflow import keras\n",
    "from tensorflow.python.keras.layers.core import Dense, Dropout, Activation, Flatten\n",
    "from tensorflow.python.keras.models import Sequential\n",
    "from tensorflow.python.keras.utils import np_utils\n",
    "from tensorflow.keras.callbacks import TensorBoard\n",
    "from sklearn import preprocessing\n",
    "from keras.regularizers import l2, l1\n",
    "from keras.utils import plot_model"
   ]
  },
  {
   "cell_type": "code",
   "execution_count": 25,
   "metadata": {},
   "outputs": [],
   "source": [
    "def root_mean_squared_error(y_true, y_pred):\n",
    "    return K.sqrt(K.mean(K.square(y_pred - y_true)))"
   ]
  },
  {
   "cell_type": "code",
   "execution_count": 26,
   "metadata": {},
   "outputs": [],
   "source": [
    "classifier = Sequential()\n",
    "# classifier.add(Dense(4, activation='relu', kernel_initializer='random_normal', input_dim=7))\n",
    "classifier.add(Dense(4, activation='relu', kernel_initializer='random_normal', input_dim=7))\n",
    "classifier.add(Dense(4, activation='relu', kernel_initializer='random_normal'))\n",
    "classifier.add(Dense(1, activation='sigmoid', kernel_initializer='random_normal'))"
   ]
  },
  {
   "cell_type": "code",
   "execution_count": 27,
   "metadata": {},
   "outputs": [],
   "source": [
    "classifier.compile(optimizer ='adam',loss='binary_crossentropy', metrics =['accuracy'])"
   ]
  },
  {
   "cell_type": "code",
   "execution_count": 28,
   "metadata": {},
   "outputs": [
    {
     "name": "stdout",
     "output_type": "stream",
     "text": [
      "Train on 18000 samples, validate on 2000 samples\n",
      "Epoch 1/10\n",
      "18000/18000 [==============================] - 1s 81us/sample - loss: 0.6929 - accuracy: 0.5384 - val_loss: 0.6880 - val_accuracy: 0.9935\n",
      "Epoch 2/10\n",
      "18000/18000 [==============================] - 1s 30us/sample - loss: 0.5508 - accuracy: 0.8724 - val_loss: 0.3763 - val_accuracy: 1.0000\n",
      "Epoch 3/10\n",
      "18000/18000 [==============================] - 1s 30us/sample - loss: 0.2923 - accuracy: 0.9994 - val_loss: 0.2507 - val_accuracy: 1.0000\n",
      "Epoch 4/10\n",
      "18000/18000 [==============================] - 1s 31us/sample - loss: 0.2246 - accuracy: 0.9995 - val_loss: 0.2069 - val_accuracy: 1.0000\n",
      "Epoch 5/10\n",
      "18000/18000 [==============================] - 1s 31us/sample - loss: 0.1890 - accuracy: 0.9996 - val_loss: 0.1765 - val_accuracy: 1.0000\n",
      "Epoch 6/10\n",
      "18000/18000 [==============================] - 1s 31us/sample - loss: 0.1626 - accuracy: 0.9996 - val_loss: 0.1529 - val_accuracy: 1.0000\n",
      "Epoch 7/10\n",
      "18000/18000 [==============================] - 1s 31us/sample - loss: 0.1417 - accuracy: 0.9996 - val_loss: 0.1338 - val_accuracy: 1.0000\n",
      "Epoch 8/10\n",
      "18000/18000 [==============================] - 1s 31us/sample - loss: 0.1245 - accuracy: 0.9996 - val_loss: 0.1178 - val_accuracy: 1.0000\n",
      "Epoch 9/10\n",
      "18000/18000 [==============================] - 1s 31us/sample - loss: 0.1101 - accuracy: 0.9996 - val_loss: 0.1045 - val_accuracy: 1.0000\n",
      "Epoch 10/10\n",
      "18000/18000 [==============================] - 1s 31us/sample - loss: 0.0979 - accuracy: 0.9996 - val_loss: 0.0931 - val_accuracy: 1.0000\n"
     ]
    }
   ],
   "source": [
    "history = classifier.fit(np_train_x, np_train_y, batch_size=100, epochs=10, validation_split=0.1)"
   ]
  },
  {
   "cell_type": "code",
   "execution_count": 29,
   "metadata": {},
   "outputs": [
    {
     "name": "stdout",
     "output_type": "stream",
     "text": [
      "dict_keys(['loss', 'accuracy', 'val_loss', 'val_accuracy'])\n"
     ]
    },
    {
     "data": {
      "image/png": "[encoded data removed]",
      "text/plain": [
       "<Figure size 432x288 with 1 Axes>"
      ]
     },
     "metadata": {
      "needs_background": "light"
     },
     "output_type": "display_data"
    },
    {
     "data": {
      "image/png": "[encoded data removed]",
      "text/plain": [
       "<Figure size 432x288 with 1 Axes>"
      ]
     },
     "metadata": {
      "needs_background": "light"
     },
     "output_type": "display_data"
    }
   ],
   "source": [
    "print(history.history.keys())\n",
    "# summarize history for accuracy\n",
    "plt.plot(history.history['accuracy'])\n",
    "plt.plot(history.history['val_accuracy'])\n",
    "plt.title('model accuracy')\n",
    "plt.ylabel('accuracy')\n",
    "plt.xlabel('epoch')\n",
    "plt.legend(['train', 'test'], loc='upper left')\n",
    "plt.show()\n",
    "# summarize history for loss\n",
    "plt.plot(history.history['loss'])\n",
    "plt.plot(history.history['val_loss'])\n",
    "plt.title('model loss')\n",
    "plt.ylabel('loss')\n",
    "plt.xlabel('epoch')\n",
    "plt.legend(['train', 'test'], loc='upper left')\n",
    "plt.show()"
   ]
  },
  {
   "cell_type": "code",
   "execution_count": 30,
   "metadata": {},
   "outputs": [
    {
     "data": {
      "text/plain": [
       "[0.09248810684680939, 0.99965]"
      ]
     },
     "execution_count": 30,
     "metadata": {},
     "output_type": "execute_result"
    }
   ],
   "source": [
    "classifier.evaluate(np_train_x, np_train_y, verbose=0)"
   ]
  },
  {
   "cell_type": "code",
   "execution_count": 31,
   "metadata": {},
   "outputs": [],
   "source": [
    "y_pred=classifier.predict(np_test_x)\n",
    "y_pred =(y_pred>0.5)"
   ]
  },
  {
   "cell_type": "code",
   "execution_count": 32,
   "metadata": {},
   "outputs": [
    {
     "name": "stdout",
     "output_type": "stream",
     "text": [
      "[[948  52]\n",
      " [114 886]]\n"
     ]
    }
   ],
   "source": [
    "from sklearn.metrics import confusion_matrix\n",
    "cm = confusion_matrix(np_test_y, y_pred)\n",
    "print(cm)"
   ]
  },
  {
   "cell_type": "code",
   "execution_count": null,
   "metadata": {},
   "outputs": [],
   "source": []
  },
  {
   "cell_type": "code",
   "execution_count": 35,
   "metadata": {},
   "outputs": [],
   "source": [
    "# from sklearn.model_selection import RandomizedSearchCV\n",
    "\n",
    "# classifier = Sequential()\n",
    "# distributions = dict(C=uniform(loc=0, scale=4), penalty=['l2', 'l1'])\n",
    "# clf = RandomizedSearchCV(classifier, distributions, random_state=0)\n",
    "# search = clf.fit(np_train_x, np_train_y)\n",
    "# search.best_params_"
   ]
  },
  {
   "cell_type": "code",
   "execution_count": 36,
   "metadata": {},
   "outputs": [],
   "source": [
    "# from sklearn.model_selection import GridSearchCV\n",
    "\n",
    "# classifier = Sequential()\n",
    "# parameters = {'kernel':('linear', 'rbf'), 'C':[1, 10]}\n",
    "# clf = GridSearchCV(classifier, parameters)\n",
    "# search = clf.fit(np_train_x, np_train_y)\n",
    "# search.best_params_"
   ]
  },
  {
   "cell_type": "code",
   "execution_count": 33,
   "metadata": {},
   "outputs": [
    {
     "name": "stderr",
     "output_type": "stream",
     "text": [
      "/usr/local/lib/python3.5/site-packages/sklearn/ensemble/weight_boosting.py:29: DeprecationWarning: numpy.core.umath_tests is an internal NumPy module and should not be imported. It will be removed in a future NumPy release.\n",
      "  from numpy.core.umath_tests import inner1d\n"
     ]
    }
   ],
   "source": [
    "from sklearn.ensemble import RandomForestRegressor"
   ]
  },
  {
   "cell_type": "code",
   "execution_count": 34,
   "metadata": {},
   "outputs": [],
   "source": [
    "rf = RandomForestRegressor(n_estimators = 1000, random_state = 42)"
   ]
  },
  {
   "cell_type": "code",
   "execution_count": 35,
   "metadata": {},
   "outputs": [
    {
     "name": "stderr",
     "output_type": "stream",
     "text": [
      "/usr/local/lib/python3.5/dist-packages/ipykernel_launcher.py:1: DataConversionWarning: A column-vector y was passed when a 1d array was expected. Please change the shape of y to (n_samples,), for example using ravel().\n",
      "  \"\"\"Entry point for launching an IPython kernel.\n"
     ]
    },
    {
     "data": {
      "text/plain": [
       "RandomForestRegressor(bootstrap=True, criterion='mse', max_depth=None,\n",
       "           max_features='auto', max_leaf_nodes=None,\n",
       "           min_impurity_decrease=0.0, min_impurity_split=None,\n",
       "           min_samples_leaf=1, min_samples_split=2,\n",
       "           min_weight_fraction_leaf=0.0, n_estimators=1000, n_jobs=1,\n",
       "           oob_score=False, random_state=42, verbose=0, warm_start=False)"
      ]
     },
     "execution_count": 35,
     "metadata": {},
     "output_type": "execute_result"
    }
   ],
   "source": [
    "rf.fit(np_train_x, np_train_y)"
   ]
  },
  {
   "cell_type": "code",
   "execution_count": 36,
   "metadata": {},
   "outputs": [],
   "source": [
    "y_pred_rf = rf.predict(np_test_x)"
   ]
  },
  {
   "cell_type": "code",
   "execution_count": 37,
   "metadata": {},
   "outputs": [],
   "source": [
    "y_pred_rf =(y_pred_rf>0.5)"
   ]
  },
  {
   "cell_type": "code",
   "execution_count": 38,
   "metadata": {},
   "outputs": [
    {
     "name": "stdout",
     "output_type": "stream",
     "text": [
      "[[930  70]\n",
      " [190 810]]\n"
     ]
    }
   ],
   "source": [
    "cm = confusion_matrix(np_test_y, y_pred_rf)\n",
    "print(cm)"
   ]
  },
  {
   "cell_type": "code",
   "execution_count": 39,
   "metadata": {},
   "outputs": [],
   "source": [
    "feature_list = list(train_x_dropped.columns)"
   ]
  },
  {
   "cell_type": "code",
   "execution_count": 40,
   "metadata": {},
   "outputs": [],
   "source": [
    "# Visualization\n",
    "from sklearn.tree import export_graphviz\n",
    "import pydot\n",
    "tree = rf.estimators_[5]\n",
    "from sklearn.tree import export_graphviz\n",
    "import pydot# Pull out one tree from the forest\n",
    "tree = rf.estimators_[5]\n",
    "export_graphviz(tree, out_file = 'tree.dot', feature_names = feature_list, rounded = True, precision = 1)\n",
    "# (graph, ) = pydot.graph_from_dot_file('tree.dot')\n",
    "# graph.write_png('tree.png')"
   ]
  },
  {
   "cell_type": "code",
   "execution_count": 41,
   "metadata": {},
   "outputs": [
    {
     "name": "stderr",
     "output_type": "stream",
     "text": [
      "/usr/local/lib/python3.5/dist-packages/ipykernel_launcher.py:3: DataConversionWarning: A column-vector y was passed when a 1d array was expected. Please change the shape of y to (n_samples,), for example using ravel().\n",
      "  This is separate from the ipykernel package so we can avoid doing imports until\n"
     ]
    }
   ],
   "source": [
    "# Limit depth of tree to 3 levels\n",
    "rf_small = RandomForestRegressor(n_estimators=10, max_depth = 3)\n",
    "rf_small.fit(np_train_x, np_train_y)\n",
    "tree_small = rf_small.estimators_[5]\n",
    "export_graphviz(tree_small, out_file='small_tree.dot', feature_names=feature_list, rounded=True, precision=1)\n",
    "# (graph, ) = pydot.graph_from_dot_file('small_tree.dot')\n",
    "# graph.write_png('small_tree.png');"
   ]
  },
  {
   "cell_type": "code",
   "execution_count": 42,
   "metadata": {},
   "outputs": [
    {
     "name": "stdout",
     "output_type": "stream",
     "text": [
      "[[930  70]\n",
      " [190 810]]\n"
     ]
    }
   ],
   "source": [
    "y_pred_rf_small = rf_small.predict(np_test_x)\n",
    "y_pred_rf_small =(y_pred_rf_small>0.5)\n",
    "cm = confusion_matrix(np_test_y, y_pred_rf_small)\n",
    "print(cm)"
   ]
  },
  {
   "cell_type": "code",
   "execution_count": null,
   "metadata": {},
   "outputs": [],
   "source": []
  }
 ],
 "metadata": {
  "kernelspec": {
   "display_name": "Python 3",
   "language": "python",
   "name": "python3"
  },
  "language_info": {
   "codemirror_mode": {
    "name": "ipython",
    "version": 3
   },
   "file_extension": ".py",
   "mimetype": "text/x-python",
   "name": "python",
   "nbconvert_exporter": "python",
   "pygments_lexer": "ipython3",
   "version": "3.5.3"
  }
 },
 "nbformat": 4,
 "nbformat_minor": 4
}
